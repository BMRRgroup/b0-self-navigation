{
 "cells": [
  {
   "cell_type": "code",
   "execution_count": 10,
   "metadata": {},
   "outputs": [
    {
     "name": "stdout",
     "output_type": "stream",
     "text": [
      "The autoreload extension is already loaded. To reload it, use:\n",
      "  %reload_ext autoreload\n"
     ]
    }
   ],
   "source": [
    "# enable autoreload\n",
    "%load_ext autoreload\n",
    "%autoreload 2\n",
    "import sys\n",
    "sys.path.insert(0, '../src')\n",
    "from interface import ImDataParamsBMRR, plot_images\n",
    "import copy\n",
    "import sys"
   ]
  },
  {
   "cell_type": "code",
   "execution_count": 11,
   "metadata": {},
   "outputs": [
    {
     "name": "stdout",
     "output_type": "stream",
     "text": [
      "Load ../data/sim/proc/20231205_165340_202_ImDataParamsBMRR_sim_geo.h5 ...Done!\n",
      "Load ../data/sim/proc/20231205_165340_202_WFIparams_sim_geo.mat... Done.\n",
      "drift\n",
      "Load ../data/sim/proc//20231205_165340_202_WFIparams_sim_drift_1.0_geo.mat... Done.\n",
      "drift\n",
      "Load ../data/sim/proc//20231205_165340_202_WFIparams_sim_drift_2.5_geo.mat... Done.\n",
      "drift\n",
      "Load ../data/sim/proc//20231205_165340_202_WFIparams_sim_drift_5.0_geo.mat... Done.\n",
      "drift\n",
      "Load ../data/sim/proc//20231205_165340_202_WFIparams_sim_drift_10.0_geo.mat... Done.\n",
      "drift\n",
      "Load ../data/sim/proc//20231205_165340_202_WFIparams_sim_drift_15.0_geo.mat... Done.\n",
      "periodic1Ddrift\n",
      "Load ../data/sim/proc//20231205_165340_202_WFIparams_sim_periodic1Ddrift_1.0_geo.mat... Done.\n",
      "periodic1Ddrift\n",
      "Load ../data/sim/proc//20231205_165340_202_WFIparams_sim_periodic1Ddrift_2.5_geo.mat... Done.\n",
      "periodic1Ddrift\n",
      "Load ../data/sim/proc//20231205_165340_202_WFIparams_sim_periodic1Ddrift_5.0_geo.mat... Done.\n",
      "periodic1Ddrift\n",
      "Load ../data/sim/proc//20231205_165340_202_WFIparams_sim_periodic1Ddrift_10.0_geo.mat... Done.\n",
      "periodic1Ddrift\n",
      "Load ../data/sim/proc//20231205_165340_202_WFIparams_sim_periodic1Ddrift_15.0_geo.mat... Done.\n"
     ]
    }
   ],
   "source": [
    "methods = [\"drift\", \"periodic1Ddrift\"]\n",
    "variants = [\"1.0\", \"2.5\", \"5.0\", \"10.0\", \"15.0\"]\n",
    "I_method = {}\n",
    "\n",
    "# simulation\n",
    "I = ImDataParamsBMRR(\"../data/sim/proc/20231205_165340_202_ImDataParamsBMRR_sim_geo.h5\")\n",
    "I.ImDataParams[\"signal\"] = I.ImDataParams[\"signal\"][:,:,:,0,:]\n",
    "I.load_WFIparams(\"../data/sim/proc/20231205_165340_202_WFIparams_sim_geo.mat\")\n",
    "\n",
    "I_method[\"ground_truth\"] = copy.deepcopy(I)\n",
    "for method in methods:\n",
    "    for variant in variants:\n",
    "        print(method)\n",
    "        I_method[method + variant] = copy.deepcopy(I)\n",
    "        I_method[method + variant].load_WFIparams(\"../data/sim/proc/\" + \"/20231205_165340_202_WFIparams_sim_\" + method + \"_\" + variant + \"_geo.mat\")"
   ]
  },
  {
   "cell_type": "markdown",
   "metadata": {},
   "source": [
    "## Figure 3: Simulation results for varying fat fraction and T2*"
   ]
  },
  {
   "cell_type": "markdown",
   "metadata": {},
   "source": [
    "### B0 drift"
   ]
  },
  {
   "cell_type": "code",
   "execution_count": 12,
   "metadata": {},
   "outputs": [],
   "source": [
    "slice_num = 0\n",
    "voxelSize = I_method[\"ground_truth\"].ImDataParams[\"voxelSize_mm\"]"
   ]
  },
  {
   "cell_type": "code",
   "execution_count": 13,
   "metadata": {},
   "outputs": [],
   "source": [
    "clim_fieldmap = [-8,8]\n",
    "clim_pdff = [-0.8, 0.8]\n",
    "clim_t2s = [-70, 70]\n"
   ]
  },
  {
   "cell_type": "code",
   "execution_count": 14,
   "metadata": {},
   "outputs": [],
   "source": [
    "method1 = \"drift\"\n",
    "method2 = \"ground_truth\"\n",
    "\n",
    "# field-map\n",
    "plot_images(I_method[method2].WFIparams[\"fieldmap_Hz\"], \"magma\", [\"axial\"], voxelSize, [slice_num, 0, 0], [-100, 100], fig_name=\"simulation_geo\", filename=\"fieldmap_\"+method2, plot_cmap=True, location_cmap=\"right\", trim=False)\n",
    "\n",
    "# T2s\n",
    "plot_images(I_method[method2].WFIparams[\"T2s_ms\"], \"plasma\", [\"axial\"], voxelSize, [slice_num, 0, 0], [0, 110], fig_name=\"simulation_geo\", filename=\"T2s_\"+method2, plot_cmap=True, location_cmap=\"right\", trim=False)\n",
    "\n",
    "# PDFF\n",
    "plot_images(I_method[method2].WFIparams[\"fatFraction_percent\"], \"inferno\", [\"axial\"], voxelSize, [slice_num, 0, 0], [-5, 100], fig_name=\"simulation_geo\", filename=\"PDFF_\"+method2, plot_cmap=True, location_cmap=\"right\", trim=False)\n",
    "\n",
    "variants = [\"1.0\", \"2.5\", \"5.0\", \"10.0\", \"15.0\"]\n",
    "for variant in variants:\n",
    "    diff_fieldmap = I_method[method1+variant].WFIparams[\"fieldmap_Hz\"] - I_method[method2].WFIparams[\"fieldmap_Hz\"]\n",
    "    # print(np.min(diff_fieldmap), np.max(diff_fieldmap))\n",
    "    plot_images(I_method[method1+variant].WFIparams[\"fieldmap_Hz\"] - I_method[method2].WFIparams[\"fieldmap_Hz\"], \"seismic\", [\"axial\"], voxelSize, [slice_num, 0, 0], clim_fieldmap, fig_name=\"simulation_geo\", filename=\"fieldmap_diff_\"+method1+variant)\n",
    "    diff_T2s = I_method[method1+variant].WFIparams[\"T2s_ms\"] - I_method[method2].WFIparams[\"T2s_ms\"]\n",
    "    # print(np.min(diff_T2s), np.max(diff_T2s))\n",
    "    plot_images(I_method[method1+variant].WFIparams[\"T2s_ms\"] - I_method[method2].WFIparams[\"T2s_ms\"], \"seismic\", [\"axial\"], voxelSize, [slice_num, 0, 0], clim_t2s, fig_name=\"simulation_geo\", filename=\"T2s_diff_\"+method1+variant)\n",
    "    diff_fatFraction = I_method[method1+variant].WFIparams[\"fatFraction_percent\"] - I_method[method2].WFIparams[\"fatFraction_percent\"]\n",
    "    # print(np.min(diff_fatFraction), np.max(diff_fatFraction))\n",
    "    plot_images(I_method[method1+variant].WFIparams[\"fatFraction_percent\"] - I_method[method2].WFIparams[\"fatFraction_percent\"], \"seismic\", [\"axial\"], voxelSize, [slice_num, 0, 0], clim_pdff, fig_name=\"simulation_geo\", filename=\"PDFF_diff_\"+method1+variant)\n",
    "\n",
    "plot_images(I_method[method1+variant].WFIparams[\"fieldmap_Hz\"] - I_method[method2].WFIparams[\"fieldmap_Hz\"], \"seismic\", [\"axial\"], voxelSize, [slice_num, 0, 0], clim_fieldmap, fig_name=\"simulation_geo\", filename=\"cmap_fieldmap_diff_\"+method1+variant, plot_cmap=True, location_cmap=\"right\")\n",
    "plot_images(I_method[method1+variant].WFIparams[\"T2s_ms\"] - I_method[method2].WFIparams[\"T2s_ms\"], \"seismic\", [\"axial\"], voxelSize, [slice_num, 0, 0], clim_t2s, fig_name=\"simulation_geo\", filename=\"cmap_T2s_diff_\"+method1+variant, plot_cmap=True, location_cmap=\"right\")\n",
    "plot_images(I_method[method1+variant].WFIparams[\"fatFraction_percent\"] - I_method[method2].WFIparams[\"fatFraction_percent\"], \"seismic\", [\"axial\"], voxelSize, [slice_num, 0, 0], clim_pdff, fig_name=\"simulation_geo\", filename=\"cmap_PDFF_diff_\"+method1+variant, plot_cmap=True, location_cmap=\"right\")"
   ]
  },
  {
   "cell_type": "code",
   "execution_count": 16,
   "metadata": {},
   "outputs": [],
   "source": [
    "method1 = \"periodic1Ddrift\"\n",
    "method2 = \"ground_truth\"\n",
    "\n",
    "variants = [\"1.0\", \"2.5\", \"5.0\", \"10.0\", \"15.0\"]\n",
    "for variant in variants:\n",
    "    diff_fieldmap = I_method[method1+variant].WFIparams[\"fieldmap_Hz\"] - I_method[method2].WFIparams[\"fieldmap_Hz\"]\n",
    "    # print(np.min(diff_fieldmap), np.max(diff_fieldmap))\n",
    "    plot_images(I_method[method1+variant].WFIparams[\"fieldmap_Hz\"] - I_method[method2].WFIparams[\"fieldmap_Hz\"], \"seismic\", [\"axial\"], voxelSize, [slice_num, 0, 0], clim_fieldmap, fig_name=\"simulation_geo\", filename=\"fieldmap_diff_\"+method1+variant)\n",
    "    diff_T2s = I_method[method1+variant].WFIparams[\"T2s_ms\"] - I_method[method2].WFIparams[\"T2s_ms\"]\n",
    "    # print(np.min(diff_T2s), np.max(diff_T2s))\n",
    "    plot_images(I_method[method1+variant].WFIparams[\"T2s_ms\"] - I_method[method2].WFIparams[\"T2s_ms\"], \"seismic\", [\"axial\"], voxelSize, [slice_num, 0, 0], clim_t2s, fig_name=\"simulation_geo\", filename=\"T2s_diff_\"+method1+variant)\n",
    "    diff_fatFraction = I_method[method1+variant].WFIparams[\"fatFraction_percent\"] - I_method[method2].WFIparams[\"fatFraction_percent\"]\n",
    "    # print(np.min(diff_fatFraction), np.max(diff_fatFraction))\n",
    "    plot_images(I_method[method1+variant].WFIparams[\"fatFraction_percent\"] - I_method[method2].WFIparams[\"fatFraction_percent\"], \"seismic\", [\"axial\"], voxelSize, [slice_num, 0, 0], clim_pdff, fig_name=\"simulation_geo\", filename=\"PDFF_diff_\"+method1+variant)"
   ]
  }
 ],
 "metadata": {
  "kernelspec": {
   "display_name": "bmrrpython2",
   "language": "python",
   "name": "python3"
  },
  "language_info": {
   "codemirror_mode": {
    "name": "ipython",
    "version": 3
   },
   "file_extension": ".py",
   "mimetype": "text/x-python",
   "name": "python",
   "nbconvert_exporter": "python",
   "pygments_lexer": "ipython3",
   "version": "3.10.0"
  }
 },
 "nbformat": 4,
 "nbformat_minor": 2
}
